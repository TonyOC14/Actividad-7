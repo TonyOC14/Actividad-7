{
  "nbformat": 4,
  "nbformat_minor": 0,
  "metadata": {
    "colab": {
      "provenance": [],
      "authorship_tag": "ABX9TyMCty4ebjh1xTeW13CXHr1H",
      "include_colab_link": true
    },
    "kernelspec": {
      "name": "python3",
      "display_name": "Python 3"
    },
    "language_info": {
      "name": "python"
    }
  },
  "cells": [
    {
      "cell_type": "markdown",
      "metadata": {
        "id": "view-in-github",
        "colab_type": "text"
      },
      "source": [
        "<a href=\"https://colab.research.google.com/github/TonyOC14/Actividad-7/blob/main/TOC_07_432.ipynb\" target=\"_parent\"><img src=\"https://colab.research.google.com/assets/colab-badge.svg\" alt=\"Open In Colab\"/></a>"
      ]
    },
    {
      "cell_type": "code",
      "execution_count": null,
      "metadata": {
        "id": "x05HuhSgO10k"
      },
      "outputs": [],
      "source": [
        "import random"
      ]
    },
    {
      "cell_type": "markdown",
      "source": [
        "1.- Función que utilice una lista con los nombres de tus mascotas, o artistas favoritos, (minimo 5, maximo 10) imprimir las cadenas y la cantidad de caracteres de cada cadena."
      ],
      "metadata": {
        "id": "o1pwGLzyZREY"
      }
    },
    {
      "cell_type": "code",
      "source": [
        "def nombre_caract():\n",
        "  nombres=[]\n",
        "  try:\n",
        "    cont = int(input(\"Cuantos nombres desea ingresar? (Tiene que ser un minimo de 5 y maximo de 10)\"))\n",
        "    if cont < 5 or cont > 10:\n",
        "      raise ValueError(\"Lea bien, minimo 5 y maixmo 10 prro\")\n",
        "  except ValueError:\n",
        "    print(\"Unicamente ingrese numeros\")\n",
        "  else:\n",
        "    for i in range(cont):\n",
        "      nom=(input(\"Ingrese el nombre \"))\n",
        "      nombres.append(nom)\n",
        "    for i,elemento in enumerate(nombres):\n",
        "      caract=len(elemento)\n",
        "      print(f\"{i+1}-{nombres[i]}--->Tiene {caract}\")"
      ],
      "metadata": {
        "id": "RdKs3FPqZSi9"
      },
      "execution_count": null,
      "outputs": []
    },
    {
      "cell_type": "code",
      "source": [
        "nombre_caract()"
      ],
      "metadata": {
        "colab": {
          "base_uri": "https://localhost:8080/"
        },
        "id": "-lF8RPmoZUr4",
        "outputId": "11c8bad7-e3c6-43c2-928d-4d2a0d835186"
      },
      "execution_count": null,
      "outputs": [
        {
          "output_type": "stream",
          "name": "stdout",
          "text": [
            "Cuantos nombres desea ingresar? (Tiene que ser un minimo de 5 y maximo de 10)6\n",
            "Ingrese el nombre Wicho\n",
            "Ingrese el nombre Gauss\n",
            "Ingrese el nombre Onar\n",
            "Ingrese el nombre Dani\n",
            "Ingrese el nombre Enrique\n",
            "Ingrese el nombre Karely\n",
            "1-Wicho--->Tiene 5\n",
            "2-Gauss--->Tiene 5\n",
            "3-Onar--->Tiene 4\n",
            "4-Dani--->Tiene 4\n",
            "5-Enrique--->Tiene 7\n",
            "6-Karely--->Tiene 6\n"
          ]
        }
      ]
    },
    {
      "cell_type": "markdown",
      "source": [
        "\n",
        "\n",
        "2.- Programa que utilice 2 funciones,\n",
        "\n",
        "Función que genere y regrese una lista con 10 números aleatorios entre el 30 y 50 (no repetidos). Función que reciba una lista , Imprimir la lista (Indice y Valor )\n",
        "\n",
        "Mandar llamar la función e imprimir toda la lista.\n"
      ],
      "metadata": {
        "id": "h2l6kDd3ZWjv"
      }
    },
    {
      "cell_type": "code",
      "source": [
        "def generar():\n",
        "  lista = range(30,50)\n",
        "\n",
        "  lista = random.sample(lista,10)\n",
        "  return lista"
      ],
      "metadata": {
        "id": "JIT2P6akZYFj"
      },
      "execution_count": null,
      "outputs": []
    },
    {
      "cell_type": "code",
      "source": [
        "def generarrand():\n",
        "  lista = []\n",
        "  i=0\n",
        "  while i < 10:\n",
        "    num=random.randint(30,50)\n",
        "    if num not in lista:\n",
        "      lista.append(num)\n",
        "      i+=1\n",
        "  return lista"
      ],
      "metadata": {
        "id": "4VC3UZBtZZqL"
      },
      "execution_count": null,
      "outputs": []
    },
    {
      "cell_type": "code",
      "source": [
        "def imprimir(lista):\n",
        "  for i,elemento in enumerate(lista):\n",
        "    print(f\"{i+1}---> {elemento}\")"
      ],
      "metadata": {
        "id": "SnyXi67qZa2Z"
      },
      "execution_count": null,
      "outputs": []
    },
    {
      "cell_type": "code",
      "source": [
        "listaf=generarrand()\n",
        "imprimir(listaf)"
      ],
      "metadata": {
        "colab": {
          "base_uri": "https://localhost:8080/"
        },
        "id": "aKEONR8iZc14",
        "outputId": "27c96635-51d3-4bd1-8980-f59e58b03e03"
      },
      "execution_count": null,
      "outputs": [
        {
          "output_type": "stream",
          "name": "stdout",
          "text": [
            "1---> 47\n",
            "2---> 40\n",
            "3---> 50\n",
            "4---> 42\n",
            "5---> 35\n",
            "6---> 46\n",
            "7---> 34\n",
            "8---> 39\n",
            "9---> 32\n",
            "10---> 43\n"
          ]
        }
      ]
    },
    {
      "cell_type": "markdown",
      "source": [
        "3.- Escribe una función que reciba dos listas de números del mismo tamaño y calcule la suma de los elementos correspondientes de cada lista. (regresar una nueva lista) . Luego, muestra una lista con los resultados de cada suma. Nota: si las listas no son del mismo tamaño mandar msge y utilizar el tamaño de la lista mas pequeña)"
      ],
      "metadata": {
        "id": "2QDAzyadZeKl"
      }
    },
    {
      "cell_type": "code",
      "source": [
        "def sum_listas(lista1,lista2):\n",
        "  try:\n",
        "    taml1=len(lista1)\n",
        "    taml2=len(lista2)\n",
        "    if taml1 != taml2:\n",
        "      print(\"Las listas son de tamaños diferentes por lo que solo se utilizara el tamaño de la lista mas pequeña\")\n",
        "      if taml1 < taml2:\n",
        "        tam = taml1\n",
        "      else:\n",
        "        tam = taml2\n",
        "  except:\n",
        "    print(\"Algo salio mal\")\n",
        "  else:\n",
        "    lista3=[]\n",
        "    for i in range (tam):\n",
        "      lista3.append(lista1[i]+lista2[i])\n",
        "    return lista3"
      ],
      "metadata": {
        "id": "Gps1RVaGZgob"
      },
      "execution_count": null,
      "outputs": []
    },
    {
      "cell_type": "code",
      "source": [
        "try:\n",
        "    lista1=[]\n",
        "    lista2=[]\n",
        "    tam1 = int(input(\"De cuanto quieres que sea el tamaño de la lista 1? \"))\n",
        "    tam2 = int(input(\"De cuanto quieres que sea el tamaño de la lista 2?  \"))\n",
        "except:\n",
        "    print(\"Error\")\n",
        "else:\n",
        "    for i in range(tam1):\n",
        "        num = int(input(f\"Ingrese el numero {i+1} de la lista1: \"))\n",
        "        lista1.append(num)\n",
        "    print(\"Llenaste la lista 1\")\n",
        "    for i in range(tam2):\n",
        "        num = int(input(f\"Ingrese el numero {i+1} de la lista2: \"))\n",
        "        lista2.append(num)\n",
        "    print(\"Llenaste la lista 2\")\n",
        "sum_listas(lista1,lista2)"
      ],
      "metadata": {
        "colab": {
          "base_uri": "https://localhost:8080/"
        },
        "id": "DeTpCYqvZil8",
        "outputId": "e14edc55-7b85-4e77-ba3b-5364b7ad0683"
      },
      "execution_count": null,
      "outputs": [
        {
          "output_type": "stream",
          "name": "stdout",
          "text": [
            "De cuanto quieres que sea el tamaño de la lista 1? 5\n",
            "De cuanto quieres que sea el tamaño de la lista 2?  6\n",
            "Ingrese el numero 1 de la lista1: 2\n",
            "Ingrese el numero 2 de la lista1: 4\n",
            "Ingrese el numero 3 de la lista1: 5\n",
            "Ingrese el numero 4 de la lista1: 1\n",
            "Ingrese el numero 5 de la lista1: 6\n",
            "Llenaste la lista 1\n",
            "Ingrese el numero 1 de la lista2: 4\n",
            "Ingrese el numero 2 de la lista2: 3\n",
            "Ingrese el numero 3 de la lista2: 6\n",
            "Ingrese el numero 4 de la lista2: 2\n",
            "Ingrese el numero 5 de la lista2: 1\n",
            "Ingrese el numero 6 de la lista2: 5\n",
            "Llenaste la lista 2\n",
            "Las listas son de tamaños diferentes por lo que solo se utilizara el tamaño de la lista mas pequeña\n"
          ]
        },
        {
          "output_type": "execute_result",
          "data": {
            "text/plain": [
              "[6, 7, 11, 3, 7]"
            ]
          },
          "metadata": {},
          "execution_count": 9
        }
      ]
    },
    {
      "cell_type": "markdown",
      "source": [
        "4.- Escribe una función llamada eliminar_duplicados que reciba una lista como parámetro y elimine los elementos duplicados. El resultado debe ser una nueva lista sin duplicados. Pide al usuario que ingrese una lista y luego llama a la función eliminar_duplicados para mostrar la lista sin duplicados. (Solo Numeros enteros, validar)"
      ],
      "metadata": {
        "id": "eFGn2kBhZlRb"
      }
    },
    {
      "cell_type": "code",
      "source": [
        "def eliminar_duplicados(lista):\n",
        "  try:\n",
        "    lista2=[]\n",
        "    for elemento in lista:\n",
        "      if elemento not in lista2:\n",
        "        lista2.append(elemento)\n",
        "  except:\n",
        "    print(\"Error\")\n",
        "  else:\n",
        "    print(lista2)"
      ],
      "metadata": {
        "id": "l3_uE-IbZmkL"
      },
      "execution_count": null,
      "outputs": []
    },
    {
      "cell_type": "code",
      "source": [
        "def validar():\n",
        "  try:\n",
        "    lista=[]\n",
        "    tam=int(input(\"De que tamaño desea que sea la lista? \"))\n",
        "    x = isinstance(tam,int)\n",
        "    if x is True:\n",
        "      print(\" \")\n",
        "    else:\n",
        "      raise Exception(\"Solo un numero entero\")\n",
        "    for i in range(tam):\n",
        "      num=int(input(f\"Ingrese el numero {i+1} \"))\n",
        "      lista.append(num)\n",
        "  except:\n",
        "    print(\"Unicamente numeros enteros\")\n",
        "  else:\n",
        "    long=len(lista)\n",
        "    for i in range(long):\n",
        "              x = isinstance(lista[i],int)\n",
        "              if x is True:\n",
        "                print(\"\",end='')\n",
        "              else:\n",
        "                  print(f\"Solo tienen que ser enteros, el elemento {i+1} no es entero\")\n",
        "                  return False\n",
        "                  break\n",
        "    else:\n",
        "      return lista"
      ],
      "metadata": {
        "id": "5rBEUPHMZrch"
      },
      "execution_count": null,
      "outputs": []
    },
    {
      "cell_type": "code",
      "source": [
        "lista=validar()\n",
        "eliminar_duplicados(lista)"
      ],
      "metadata": {
        "colab": {
          "base_uri": "https://localhost:8080/"
        },
        "id": "LlrfzECfZs2R",
        "outputId": "72805345-96fe-4b8d-ddfb-dfec6bfe17c8"
      },
      "execution_count": null,
      "outputs": [
        {
          "output_type": "stream",
          "name": "stdout",
          "text": [
            "De que tamaño desea que sea la lista? 5\n",
            " \n",
            "Ingrese el numero 1 7\n",
            "Ingrese el numero 2 9\n",
            "Ingrese el numero 3 10\n",
            "Ingrese el numero 4 2\n",
            "Ingrese el numero 5 7\n",
            "[7, 9, 10, 2]\n"
          ]
        }
      ]
    },
    {
      "cell_type": "markdown",
      "source": [
        "\n",
        "\n",
        "5.- Escribe una función que calcule la media y la mediana de una lista de números enteros.\n",
        "\n",
        "La media es la suma de todos los elementos y dividido entre la cantidad de elementos\n",
        "\n",
        "La mediana es el valor que queda en la mitad de la lista cuando se ordena de forma ascendente. Si la lista tiene un número par de elementos, la mediana se calcula como el promedio de los dos valores centrales. Puedes utilizar el método sort() para ordenar la lista y luego calcular la mediana según el tamaño de la lista.\n"
      ],
      "metadata": {
        "id": "HwwZsjftZujz"
      }
    },
    {
      "cell_type": "code",
      "source": [
        "def media_mediana(lista):\n",
        "    try:\n",
        "       print(\"\")\n",
        "    except :\n",
        "        print(\"Error\")\n",
        "    else:\n",
        "        media = 0\n",
        "        long = len(lista)\n",
        "        for i in range(long):\n",
        "            media += lista[i]\n",
        "        print(f\"La media es de {media/long}\")\n",
        "\n",
        "        lista.sort\n",
        "        mitad = long // 2\n",
        "        ultimo = mitad\n",
        "        if len(lista) % 2 != 0:\n",
        "            print(f\"La mediana es de {lista[ultimo]}\")\n",
        "        else:\n",
        "            penultimo = ultimo - 1\n",
        "            print(f\"La mediana de de {(lista[ultimo] + lista[penultimo])/2}\")"
      ],
      "metadata": {
        "id": "bLm6_-jZZwIR"
      },
      "execution_count": null,
      "outputs": []
    },
    {
      "cell_type": "code",
      "source": [
        "lista=validar()\n",
        "media_mediana(lista)"
      ],
      "metadata": {
        "colab": {
          "base_uri": "https://localhost:8080/"
        },
        "id": "TuG5NFGQZxtp",
        "outputId": "68663025-0bc4-4857-ce7f-9403fbc3f4f2"
      },
      "execution_count": null,
      "outputs": [
        {
          "output_type": "stream",
          "name": "stdout",
          "text": [
            "De que tamaño desea que sea la lista? 5\n",
            " \n",
            "Ingrese el numero 1 1\n",
            "Ingrese el numero 2 7\n",
            "Ingrese el numero 3 8\n",
            "Ingrese el numero 4 9\n",
            "Ingrese el numero 5 10\n",
            "\n",
            "La media es de 7.0\n",
            "La mediana es de 8\n"
          ]
        }
      ]
    },
    {
      "cell_type": "code",
      "source": [],
      "metadata": {
        "id": "OPMRrvW4aOJ9"
      },
      "execution_count": null,
      "outputs": []
    }
  ]
}